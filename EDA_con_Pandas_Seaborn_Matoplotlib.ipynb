{
 "cells": [
  {
   "cell_type": "markdown",
   "metadata": {},
   "source": [
    "## IMPORTACIÓN DE LIBRERÍAS"
   ]
  },
  {
   "cell_type": "code",
   "execution_count": 3,
   "metadata": {},
   "outputs": [],
   "source": [
    "import pandas as pd\n",
    "import matplotlib.pyplot as plt\n",
    "import seaborn as sns"
   ]
  },
  {
   "cell_type": "markdown",
   "metadata": {},
   "source": [
    "## CARGA DEL DATASET"
   ]
  },
  {
   "cell_type": "code",
   "execution_count": 4,
   "metadata": {},
   "outputs": [],
   "source": [
    "df = pd.read_csv('dataset_finanzas_personales_madrid_34_años.csv', delimiter = ',')"
   ]
  },
  {
   "cell_type": "markdown",
   "metadata": {},
   "source": [
    "## DEFINICIÓN DEL CAMPO 'ID' COMO ÍNDICE"
   ]
  },
  {
   "cell_type": "code",
   "execution_count": 5,
   "metadata": {},
   "outputs": [],
   "source": [
    "df.set_index('ID',inplace=True)"
   ]
  },
  {
   "cell_type": "markdown",
   "metadata": {},
   "source": [
    "## PRIMERA EXPLORACIÓN"
   ]
  },
  {
   "cell_type": "code",
   "execution_count": 6,
   "metadata": {},
   "outputs": [
    {
     "data": {
      "text/html": [
       "<div>\n",
       "<style scoped>\n",
       "    .dataframe tbody tr th:only-of-type {\n",
       "        vertical-align: middle;\n",
       "    }\n",
       "\n",
       "    .dataframe tbody tr th {\n",
       "        vertical-align: top;\n",
       "    }\n",
       "\n",
       "    .dataframe thead th {\n",
       "        text-align: right;\n",
       "    }\n",
       "</style>\n",
       "<table border=\"1\" class=\"dataframe\">\n",
       "  <thead>\n",
       "    <tr style=\"text-align: right;\">\n",
       "      <th></th>\n",
       "      <th>AÑO</th>\n",
       "      <th>MES</th>\n",
       "      <th>DIA</th>\n",
       "      <th>FECHA</th>\n",
       "      <th>TIPO</th>\n",
       "      <th>PRECIO</th>\n",
       "    </tr>\n",
       "    <tr>\n",
       "      <th>ID</th>\n",
       "      <th></th>\n",
       "      <th></th>\n",
       "      <th></th>\n",
       "      <th></th>\n",
       "      <th></th>\n",
       "      <th></th>\n",
       "    </tr>\n",
       "  </thead>\n",
       "  <tbody>\n",
       "    <tr>\n",
       "      <th>1</th>\n",
       "      <td>2024</td>\n",
       "      <td>1</td>\n",
       "      <td>1</td>\n",
       "      <td>1/1/2024</td>\n",
       "      <td>Vivienda</td>\n",
       "      <td>1,100.00 €</td>\n",
       "    </tr>\n",
       "    <tr>\n",
       "      <th>2</th>\n",
       "      <td>2024</td>\n",
       "      <td>1</td>\n",
       "      <td>1</td>\n",
       "      <td>1/1/2024</td>\n",
       "      <td>Ingreso</td>\n",
       "      <td>1.16 €</td>\n",
       "    </tr>\n",
       "    <tr>\n",
       "      <th>3</th>\n",
       "      <td>2024</td>\n",
       "      <td>1</td>\n",
       "      <td>1</td>\n",
       "      <td>1/1/2024</td>\n",
       "      <td>Estudio</td>\n",
       "      <td>48.00 €</td>\n",
       "    </tr>\n",
       "    <tr>\n",
       "      <th>4</th>\n",
       "      <td>2024</td>\n",
       "      <td>1</td>\n",
       "      <td>2</td>\n",
       "      <td>1/2/2024</td>\n",
       "      <td>Regalo</td>\n",
       "      <td>16.99 €</td>\n",
       "    </tr>\n",
       "    <tr>\n",
       "      <th>5</th>\n",
       "      <td>2024</td>\n",
       "      <td>1</td>\n",
       "      <td>2</td>\n",
       "      <td>1/2/2024</td>\n",
       "      <td>Deporte</td>\n",
       "      <td>58.54 €</td>\n",
       "    </tr>\n",
       "  </tbody>\n",
       "</table>\n",
       "</div>"
      ],
      "text/plain": [
       "     AÑO  MES  DIA     FECHA      TIPO         PRECIO\n",
       "ID                                                   \n",
       "1   2024    1    1  1/1/2024  Vivienda    1,100.00 € \n",
       "2   2024    1    1  1/1/2024   Ingreso        1.16 € \n",
       "3   2024    1    1  1/1/2024   Estudio       48.00 € \n",
       "4   2024    1    2  1/2/2024    Regalo       16.99 € \n",
       "5   2024    1    2  1/2/2024   Deporte       58.54 € "
      ]
     },
     "execution_count": 6,
     "metadata": {},
     "output_type": "execute_result"
    }
   ],
   "source": [
    "df.head()"
   ]
  },
  {
   "cell_type": "code",
   "execution_count": 7,
   "metadata": {},
   "outputs": [
    {
     "data": {
      "text/html": [
       "<div>\n",
       "<style scoped>\n",
       "    .dataframe tbody tr th:only-of-type {\n",
       "        vertical-align: middle;\n",
       "    }\n",
       "\n",
       "    .dataframe tbody tr th {\n",
       "        vertical-align: top;\n",
       "    }\n",
       "\n",
       "    .dataframe thead th {\n",
       "        text-align: right;\n",
       "    }\n",
       "</style>\n",
       "<table border=\"1\" class=\"dataframe\">\n",
       "  <thead>\n",
       "    <tr style=\"text-align: right;\">\n",
       "      <th></th>\n",
       "      <th>AÑO</th>\n",
       "      <th>MES</th>\n",
       "      <th>DIA</th>\n",
       "      <th>FECHA</th>\n",
       "      <th>TIPO</th>\n",
       "      <th>PRECIO</th>\n",
       "    </tr>\n",
       "    <tr>\n",
       "      <th>ID</th>\n",
       "      <th></th>\n",
       "      <th></th>\n",
       "      <th></th>\n",
       "      <th></th>\n",
       "      <th></th>\n",
       "      <th></th>\n",
       "    </tr>\n",
       "  </thead>\n",
       "  <tbody>\n",
       "    <tr>\n",
       "      <th>310</th>\n",
       "      <td>2024</td>\n",
       "      <td>8</td>\n",
       "      <td>20</td>\n",
       "      <td>8/20/2024</td>\n",
       "      <td>Belleza</td>\n",
       "      <td>10.40 €</td>\n",
       "    </tr>\n",
       "    <tr>\n",
       "      <th>311</th>\n",
       "      <td>2024</td>\n",
       "      <td>8</td>\n",
       "      <td>20</td>\n",
       "      <td>8/20/2024</td>\n",
       "      <td>Supermercado</td>\n",
       "      <td>5.99 €</td>\n",
       "    </tr>\n",
       "    <tr>\n",
       "      <th>312</th>\n",
       "      <td>2024</td>\n",
       "      <td>8</td>\n",
       "      <td>21</td>\n",
       "      <td>8/21/2024</td>\n",
       "      <td>Ingreso</td>\n",
       "      <td>2.00 €</td>\n",
       "    </tr>\n",
       "    <tr>\n",
       "      <th>313</th>\n",
       "      <td>2024</td>\n",
       "      <td>8</td>\n",
       "      <td>24</td>\n",
       "      <td>8/24/2024</td>\n",
       "      <td>Servicios</td>\n",
       "      <td>1.39 €</td>\n",
       "    </tr>\n",
       "    <tr>\n",
       "      <th>314</th>\n",
       "      <td>2024</td>\n",
       "      <td>8</td>\n",
       "      <td>27</td>\n",
       "      <td>8/27/2024</td>\n",
       "      <td>Supermercado</td>\n",
       "      <td>49.97 €</td>\n",
       "    </tr>\n",
       "  </tbody>\n",
       "</table>\n",
       "</div>"
      ],
      "text/plain": [
       "      AÑO  MES  DIA      FECHA          TIPO      PRECIO\n",
       "ID                                                      \n",
       "310  2024    8   20  8/20/2024       Belleza    10.40 € \n",
       "311  2024    8   20  8/20/2024  Supermercado     5.99 € \n",
       "312  2024    8   21  8/21/2024       Ingreso     2.00 € \n",
       "313  2024    8   24  8/24/2024     Servicios     1.39 € \n",
       "314  2024    8   27  8/27/2024  Supermercado    49.97 € "
      ]
     },
     "execution_count": 7,
     "metadata": {},
     "output_type": "execute_result"
    }
   ],
   "source": [
    "df.tail()"
   ]
  },
  {
   "cell_type": "markdown",
   "metadata": {},
   "source": [
    "#### CANTIDAD DE NULOS"
   ]
  },
  {
   "cell_type": "code",
   "execution_count": 8,
   "metadata": {},
   "outputs": [
    {
     "data": {
      "text/plain": [
       "AÑO       0\n",
       "MES       0\n",
       "DIA       0\n",
       "FECHA     0\n",
       "TIPO      0\n",
       "PRECIO    0\n",
       "dtype: int64"
      ]
     },
     "execution_count": 8,
     "metadata": {},
     "output_type": "execute_result"
    }
   ],
   "source": [
    "df.isnull().sum()"
   ]
  },
  {
   "cell_type": "markdown",
   "metadata": {},
   "source": [
    "#### INFORMACIÓN DE LOS CAMPOS"
   ]
  },
  {
   "cell_type": "code",
   "execution_count": 9,
   "metadata": {},
   "outputs": [
    {
     "name": "stdout",
     "output_type": "stream",
     "text": [
      "<class 'pandas.core.frame.DataFrame'>\n",
      "Index: 314 entries, 1 to 314\n",
      "Data columns (total 6 columns):\n",
      " #   Column  Non-Null Count  Dtype \n",
      "---  ------  --------------  ----- \n",
      " 0   AÑO     314 non-null    int64 \n",
      " 1   MES     314 non-null    int64 \n",
      " 2   DIA     314 non-null    int64 \n",
      " 3   FECHA   314 non-null    object\n",
      " 4   TIPO    314 non-null    object\n",
      " 5   PRECIO  314 non-null    object\n",
      "dtypes: int64(3), object(3)\n",
      "memory usage: 17.2+ KB\n"
     ]
    }
   ],
   "source": [
    "df.info()"
   ]
  },
  {
   "cell_type": "markdown",
   "metadata": {},
   "source": [
    "## TRANSFORMACION DE CAMPOS"
   ]
  },
  {
   "cell_type": "markdown",
   "metadata": {},
   "source": [
    "### CAMPO FECHA"
   ]
  },
  {
   "cell_type": "code",
   "execution_count": 10,
   "metadata": {},
   "outputs": [],
   "source": [
    "df['FECHA'] = pd.to_datetime(df['FECHA'], format='%m/%d/%Y')"
   ]
  },
  {
   "cell_type": "markdown",
   "metadata": {},
   "source": [
    "### CAMPO PRECIO"
   ]
  },
  {
   "cell_type": "code",
   "execution_count": 11,
   "metadata": {},
   "outputs": [],
   "source": [
    "df['PRECIO'] = df['PRECIO'].str.replace(' €','') # Ejemplo: 1,424.18 € => 1,424.18\n",
    "df['PRECIO'] = df['PRECIO'].str.replace(',','') #Separador de miles | Ejemplo: 1,424.18 => 1424.18\n",
    "df['PRECIO'] = df['PRECIO'].astype(float)"
   ]
  },
  {
   "cell_type": "code",
   "execution_count": 12,
   "metadata": {},
   "outputs": [
    {
     "name": "stdout",
     "output_type": "stream",
     "text": [
      "<class 'pandas.core.frame.DataFrame'>\n",
      "Index: 314 entries, 1 to 314\n",
      "Data columns (total 6 columns):\n",
      " #   Column  Non-Null Count  Dtype         \n",
      "---  ------  --------------  -----         \n",
      " 0   AÑO     314 non-null    int64         \n",
      " 1   MES     314 non-null    int64         \n",
      " 2   DIA     314 non-null    int64         \n",
      " 3   FECHA   314 non-null    datetime64[ns]\n",
      " 4   TIPO    314 non-null    object        \n",
      " 5   PRECIO  314 non-null    float64       \n",
      "dtypes: datetime64[ns](1), float64(1), int64(3), object(1)\n",
      "memory usage: 17.2+ KB\n"
     ]
    }
   ],
   "source": [
    "df.info()"
   ]
  },
  {
   "cell_type": "markdown",
   "metadata": {},
   "source": [
    "## ANÁLISIS DESCRIPTIVO"
   ]
  },
  {
   "cell_type": "markdown",
   "metadata": {},
   "source": [
    "### CONTEO DE VALORES"
   ]
  },
  {
   "cell_type": "code",
   "execution_count": 13,
   "metadata": {},
   "outputs": [
    {
     "data": {
      "text/plain": [
       "TIPO\n",
       "Supermercado    68\n",
       "Vivienda        41\n",
       "Gastronomía     38\n",
       "Ingreso         34\n",
       "Servicios       25\n",
       "Deporte         17\n",
       "Viajes          14\n",
       "Transporte      12\n",
       "Estudio         10\n",
       "Regalo          10\n",
       "Salud           10\n",
       "Belleza          9\n",
       "Herramientas     9\n",
       "Ropa             6\n",
       "Actividades      6\n",
       "Café             4\n",
       "Teatro           1\n",
       "Name: count, dtype: int64"
      ]
     },
     "execution_count": 13,
     "metadata": {},
     "output_type": "execute_result"
    }
   ],
   "source": [
    "#Conteo de frecuencias\n",
    "df['TIPO'].value_counts()"
   ]
  },
  {
   "cell_type": "code",
   "execution_count": 14,
   "metadata": {},
   "outputs": [
    {
     "data": {
      "text/plain": [
       "TIPO\n",
       "Supermercado    21.656051\n",
       "Vivienda        13.057325\n",
       "Gastronomía     12.101911\n",
       "Ingreso         10.828025\n",
       "Servicios        7.961783\n",
       "Deporte          5.414013\n",
       "Viajes           4.458599\n",
       "Transporte       3.821656\n",
       "Estudio          3.184713\n",
       "Regalo           3.184713\n",
       "Salud            3.184713\n",
       "Belleza          2.866242\n",
       "Herramientas     2.866242\n",
       "Ropa             1.910828\n",
       "Actividades      1.910828\n",
       "Café             1.273885\n",
       "Teatro           0.318471\n",
       "Name: proportion, dtype: float64"
      ]
     },
     "execution_count": 14,
     "metadata": {},
     "output_type": "execute_result"
    }
   ],
   "source": [
    "#En porcentaje\n",
    "df['TIPO'].value_counts(normalize=True)*100"
   ]
  },
  {
   "cell_type": "markdown",
   "metadata": {},
   "source": [
    "### SUMA DE PRECIOS POR TIPO"
   ]
  },
  {
   "cell_type": "code",
   "execution_count": 15,
   "metadata": {},
   "outputs": [
    {
     "data": {
      "text/plain": [
       "TIPO\n",
       "Ingreso         14906.03\n",
       "Vivienda         9139.72\n",
       "Supermercado     1458.78\n",
       "Deporte           733.69\n",
       "Herramientas      692.43\n",
       "Gastronomía       418.44\n",
       "Viajes            398.40\n",
       "Ropa              281.09\n",
       "Salud             244.43\n",
       "Estudio           228.00\n",
       "Servicios         118.87\n",
       "Belleza           113.09\n",
       "Regalo             82.92\n",
       "Transporte         58.15\n",
       "Café               34.65\n",
       "Actividades        32.31\n",
       "Teatro             15.00\n",
       "Name: PRECIO, dtype: float64"
      ]
     },
     "execution_count": 15,
     "metadata": {},
     "output_type": "execute_result"
    }
   ],
   "source": [
    "#Sumar los 'PRECIOS' por 'TIPO' y orderdarlos de mayor a menor\n",
    "df.groupby('TIPO')['PRECIO'].sum().sort_values(ascending=False)"
   ]
  },
  {
   "cell_type": "code",
   "execution_count": 16,
   "metadata": {},
   "outputs": [
    {
     "data": {
      "text/plain": [
       "TIPO\n",
       "Vivienda        65.051527\n",
       "Supermercado    10.382798\n",
       "Deporte          5.222004\n",
       "Herramientas     4.928338\n",
       "Gastronomía      2.978227\n",
       "Viajes           2.835593\n",
       "Ropa             2.000645\n",
       "Salud            1.739719\n",
       "Estudio          1.622779\n",
       "Servicios        0.846052\n",
       "Belleza          0.804913\n",
       "Regalo           0.590179\n",
       "Transporte       0.413880\n",
       "Café             0.246620\n",
       "Actividades      0.229965\n",
       "Teatro           0.106762\n",
       "Name: PRECIO, dtype: float64"
      ]
     },
     "execution_count": 16,
     "metadata": {},
     "output_type": "execute_result"
    }
   ],
   "source": [
    "#En porcentaje\n",
    "df_gastos = df[df['TIPO']!='Ingreso']\n",
    "df_gastos.groupby('TIPO')['PRECIO'].sum().sort_values(ascending=False)/df_gastos['PRECIO'].sum()*100"
   ]
  },
  {
   "cell_type": "markdown",
   "metadata": {},
   "source": [
    "### MODA"
   ]
  },
  {
   "cell_type": "code",
   "execution_count": 17,
   "metadata": {},
   "outputs": [
    {
     "data": {
      "text/plain": [
       "0    Supermercado\n",
       "Name: TIPO, dtype: object"
      ]
     },
     "execution_count": 17,
     "metadata": {},
     "output_type": "execute_result"
    }
   ],
   "source": [
    "df['TIPO'].mode()"
   ]
  },
  {
   "cell_type": "markdown",
   "metadata": {},
   "source": [
    "### MEDIA"
   ]
  },
  {
   "cell_type": "code",
   "execution_count": 18,
   "metadata": {},
   "outputs": [
    {
     "data": {
      "text/plain": [
       "92.22"
      ]
     },
     "execution_count": 18,
     "metadata": {},
     "output_type": "execute_result"
    }
   ],
   "source": [
    "round(df['PRECIO'].mean(),2)"
   ]
  },
  {
   "cell_type": "markdown",
   "metadata": {},
   "source": [
    "### MEDIANA"
   ]
  },
  {
   "cell_type": "code",
   "execution_count": 19,
   "metadata": {},
   "outputs": [
    {
     "data": {
      "text/plain": [
       "10.0"
      ]
     },
     "execution_count": 19,
     "metadata": {},
     "output_type": "execute_result"
    }
   ],
   "source": [
    "df[\"PRECIO\"].median()"
   ]
  },
  {
   "cell_type": "markdown",
   "metadata": {},
   "source": [
    "### MÁXIMO"
   ]
  },
  {
   "cell_type": "code",
   "execution_count": 20,
   "metadata": {},
   "outputs": [
    {
     "data": {
      "text/plain": [
       "2057.19"
      ]
     },
     "execution_count": 20,
     "metadata": {},
     "output_type": "execute_result"
    }
   ],
   "source": [
    "df[\"PRECIO\"].max()"
   ]
  },
  {
   "cell_type": "markdown",
   "metadata": {},
   "source": [
    "### MÍNIMO"
   ]
  },
  {
   "cell_type": "code",
   "execution_count": 21,
   "metadata": {},
   "outputs": [
    {
     "data": {
      "text/plain": [
       "0.05"
      ]
     },
     "execution_count": 21,
     "metadata": {},
     "output_type": "execute_result"
    }
   ],
   "source": [
    "df[\"PRECIO\"].min()"
   ]
  },
  {
   "cell_type": "markdown",
   "metadata": {},
   "source": [
    "### ÍNDICE DEL VALOR MÁXIMO"
   ]
  },
  {
   "cell_type": "code",
   "execution_count": 22,
   "metadata": {},
   "outputs": [
    {
     "data": {
      "text/plain": [
       "140"
      ]
     },
     "execution_count": 22,
     "metadata": {},
     "output_type": "execute_result"
    }
   ],
   "source": [
    "df['PRECIO'].idxmax()"
   ]
  },
  {
   "cell_type": "code",
   "execution_count": 23,
   "metadata": {},
   "outputs": [
    {
     "data": {
      "text/plain": [
       "AÑO                      2024\n",
       "MES                         4\n",
       "DIA                        10\n",
       "FECHA     2024-04-10 00:00:00\n",
       "TIPO                  Ingreso\n",
       "PRECIO                2057.19\n",
       "Name: 140, dtype: object"
      ]
     },
     "execution_count": 23,
     "metadata": {},
     "output_type": "execute_result"
    }
   ],
   "source": [
    "df.loc[140]"
   ]
  },
  {
   "cell_type": "markdown",
   "metadata": {},
   "source": [
    "### ÍNDICE DEL VALOR MÍNIMO"
   ]
  },
  {
   "cell_type": "code",
   "execution_count": 24,
   "metadata": {},
   "outputs": [
    {
     "data": {
      "text/plain": [
       "104"
      ]
     },
     "execution_count": 24,
     "metadata": {},
     "output_type": "execute_result"
    }
   ],
   "source": [
    "df['PRECIO'].idxmin()"
   ]
  },
  {
   "cell_type": "code",
   "execution_count": 25,
   "metadata": {},
   "outputs": [
    {
     "data": {
      "text/plain": [
       "AÑO                      2024\n",
       "MES                         3\n",
       "DIA                        25\n",
       "FECHA     2024-03-25 00:00:00\n",
       "TIPO                  Ingreso\n",
       "PRECIO                   0.05\n",
       "Name: 104, dtype: object"
      ]
     },
     "execution_count": 25,
     "metadata": {},
     "output_type": "execute_result"
    }
   ],
   "source": [
    "df.loc[104]"
   ]
  },
  {
   "cell_type": "markdown",
   "metadata": {},
   "source": [
    "### PRIMERA FECHA"
   ]
  },
  {
   "cell_type": "code",
   "execution_count": 26,
   "metadata": {},
   "outputs": [
    {
     "data": {
      "text/plain": [
       "Timestamp('2024-01-01 00:00:00')"
      ]
     },
     "execution_count": 26,
     "metadata": {},
     "output_type": "execute_result"
    }
   ],
   "source": [
    "df['FECHA'].min()"
   ]
  },
  {
   "cell_type": "markdown",
   "metadata": {},
   "source": [
    "### ÚLTIMA FECHA"
   ]
  },
  {
   "cell_type": "code",
   "execution_count": 27,
   "metadata": {},
   "outputs": [
    {
     "data": {
      "text/plain": [
       "Timestamp('2024-08-27 00:00:00')"
      ]
     },
     "execution_count": 27,
     "metadata": {},
     "output_type": "execute_result"
    }
   ],
   "source": [
    "df['FECHA'].max()"
   ]
  },
  {
   "cell_type": "markdown",
   "metadata": {},
   "source": [
    "## RELACIÓN INGRESO / EGRESO"
   ]
  },
  {
   "cell_type": "markdown",
   "metadata": {},
   "source": [
    "### INGRESOS"
   ]
  },
  {
   "cell_type": "code",
   "execution_count": 28,
   "metadata": {},
   "outputs": [
    {
     "data": {
      "text/plain": [
       "14906.03"
      ]
     },
     "execution_count": 28,
     "metadata": {},
     "output_type": "execute_result"
    }
   ],
   "source": [
    "#Sumar los 'PRECIOS' cuando 'TIPO' = 'Ingreso'\n",
    "ingresos = df[df['TIPO']=='Ingreso']['PRECIO'].sum()\n",
    "ingresos"
   ]
  },
  {
   "cell_type": "markdown",
   "metadata": {},
   "source": [
    "### EGRESOS"
   ]
  },
  {
   "cell_type": "code",
   "execution_count": 29,
   "metadata": {},
   "outputs": [
    {
     "data": {
      "text/plain": [
       "14049.97"
      ]
     },
     "execution_count": 29,
     "metadata": {},
     "output_type": "execute_result"
    }
   ],
   "source": [
    "#Sumar los 'PRECIOS' cuando 'TIPO' sea distinto a 'Ingreso'\n",
    "egresos = round(df[df['TIPO']!='Ingreso']['PRECIO'].sum(),2)\n",
    "egresos"
   ]
  },
  {
   "cell_type": "markdown",
   "metadata": {},
   "source": [
    "### DIFERENCIA INGRESOS vs EGRESOS"
   ]
  },
  {
   "cell_type": "code",
   "execution_count": 30,
   "metadata": {},
   "outputs": [
    {
     "data": {
      "text/plain": [
       "856.06"
      ]
     },
     "execution_count": 30,
     "metadata": {},
     "output_type": "execute_result"
    }
   ],
   "source": [
    "dif = ingresos - egresos\n",
    "round(dif,2)"
   ]
  },
  {
   "cell_type": "code",
   "execution_count": 31,
   "metadata": {},
   "outputs": [],
   "source": [
    "data = pd.DataFrame({\n",
    "    'Tipo': ['Ingresos', 'Egresos'],\n",
    "    'Monto': [ingresos, egresos]\n",
    "})"
   ]
  },
  {
   "cell_type": "code",
   "execution_count": 50,
   "metadata": {},
   "outputs": [
    {
     "data": {
      "image/png": "[encoded data removed]",
      "text/plain": [
       "<Figure size 600x600 with 1 Axes>"
      ]
     },
     "metadata": {},
     "output_type": "display_data"
    }
   ],
   "source": [
    "plt.figure(figsize=(6, 6))\n",
    "\n",
    "pastel_colors = ['#77dd77', '#ff6961']\n",
    "plt.bar(data['Tipo'], data['Monto'], color=pastel_colors)\n",
    "\n",
    "plt.title('Relación de Ingresos vs Egresos', fontsize=20)\n",
    "plt.xticks(fontsize=20)\n",
    "\n",
    "plt.yticks([])\n",
    "plt.gca().spines['top'].set_visible(False)\n",
    "plt.gca().spines['right'].set_visible(False)\n",
    "plt.gca().spines['left'].set_visible(False)\n",
    "plt.gca().spines['bottom'].set_linewidth(0)\n",
    "\n",
    "plt.grid(False)\n",
    "\n",
    "for i, v in enumerate(data['Monto']):\n",
    "    plt.text(i, v + 0.01 * max(data['Monto']), f\"${v:.2f}\", ha='center', fontsize = 14)\n",
    "\n",
    "plt.show()"
   ]
  },
  {
   "cell_type": "markdown",
   "metadata": {},
   "source": [
    "#### CONCLUSIÓN"
   ]
  },
  {
   "cell_type": "markdown",
   "metadata": {},
   "source": [
    "En este gráfico de barras podemos observar como la persona pudo generar desde el 2024-01-01 al 2024-08-27 **mayores ingresos que egresos**, con una diferencia de **856.06 €**"
   ]
  },
  {
   "cell_type": "markdown",
   "metadata": {},
   "source": [
    "## DISCRIMINACIÓN DE EGRESOS"
   ]
  },
  {
   "cell_type": "code",
   "execution_count": 38,
   "metadata": {},
   "outputs": [
    {
     "data": {
      "text/plain": [
       "TIPO\n",
       "Vivienda        9139.72\n",
       "Supermercado    1458.78\n",
       "Deporte          733.69\n",
       "Herramientas     692.43\n",
       "Gastronomía      418.44\n",
       "Viajes           398.40\n",
       "Ropa             281.09\n",
       "Salud            244.43\n",
       "Estudio          228.00\n",
       "Servicios        118.87\n",
       "Belleza          113.09\n",
       "Regalo            82.92\n",
       "Transporte        58.15\n",
       "Café              34.65\n",
       "Actividades       32.31\n",
       "Teatro            15.00\n",
       "Name: PRECIO, dtype: float64"
      ]
     },
     "execution_count": 38,
     "metadata": {},
     "output_type": "execute_result"
    }
   ],
   "source": [
    "#Sumar los 'PRECIOS' por 'TIPO' excepto 'Ingreso'. Orderdarlos de mayor a menor\n",
    "egresos_discriminados = df[df['TIPO'] != 'Ingreso'].groupby('TIPO')['PRECIO'].sum().sort_values(ascending=False)\n",
    "egresos_discriminados"
   ]
  },
  {
   "cell_type": "code",
   "execution_count": 45,
   "metadata": {},
   "outputs": [
    {
     "data": {
      "image/png": "[encoded data removed]",
      "text/plain": [
       "<Figure size 800x600 with 1 Axes>"
      ]
     },
     "metadata": {},
     "output_type": "display_data"
    }
   ],
   "source": [
    "plt.figure(figsize=(8, 6))\n",
    "\n",
    "egresos_discriminados = egresos_discriminados.sort_values(ascending=True)\n",
    "\n",
    "pastel_colors = sns.color_palette(\"pastel\", len(egresos_discriminados))\n",
    "plt.barh(egresos_discriminados.index, egresos_discriminados.values, color=pastel_colors)\n",
    "\n",
    "plt.title('Discriminación de Egresos por Categoría', fontsize=20)\n",
    "plt.xticks(fontsize=20)\n",
    "\n",
    "plt.yticks(fontsize=16)\n",
    "plt.xticks([])\n",
    "plt.gca().spines['top'].set_visible(False)\n",
    "plt.gca().spines['right'].set_visible(False)\n",
    "plt.gca().spines['left'].set_visible(False)\n",
    "plt.gca().spines['bottom'].set_linewidth(0)\n",
    "plt.grid(False)\n",
    "\n",
    "for i, v in enumerate(egresos_discriminados):\n",
    "    plt.text(v + 0.01 * max(egresos_discriminados), i, f\"${v:.0f}\", va='center', fontsize=14)\n",
    "\n",
    "plt.show()"
   ]
  },
  {
   "cell_type": "markdown",
   "metadata": {},
   "source": [
    "#### CONCLUSIÓN"
   ]
  },
  {
   "cell_type": "markdown",
   "metadata": {},
   "source": [
    "Se observa como 'Vivienda' acapara el **65.05%** de los egresos de la persona siendo este el gasto más determinante en el transcursos de los meses"
   ]
  },
  {
   "cell_type": "markdown",
   "metadata": {},
   "source": [
    "Este documento fue creado por [Fede Labate](https://www.linkedin.com/in/fhlabate/) con un dataset ficticio intentando simular las finanzas personales de una persona de 34 años residente de Madrid. \n",
    "\n",
    "Espero que os inspire en su proceso de formación y cualquier duda o curiosidad, pueden escribirme por Linkedin 🙌"
   ]
  }
 ],
 "metadata": {
  "kernelspec": {
   "display_name": "Python 3",
   "language": "python",
   "name": "python3"
  },
  "language_info": {
   "codemirror_mode": {
    "name": "ipython",
    "version": 3
   },
   "file_extension": ".py",
   "mimetype": "text/x-python",
   "name": "python",
   "nbconvert_exporter": "python",
   "pygments_lexer": "ipython3",
   "version": "3.12.2"
  }
 },
 "nbformat": 4,
 "nbformat_minor": 2
}
